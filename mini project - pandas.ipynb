{
 "cells": [
  {
   "cell_type": "markdown",
   "id": "3d02f88b-43eb-41dc-b2e2-b2752dda1d53",
   "metadata": {},
   "source": [
    "# Clean a dataset & perform basic data exploration \n",
    "import pandas as pd\n",
    "import numpy as np\n",
    "import os"
   ]
  },
  {
   "cell_type": "code",
   "execution_count": 15,
   "id": "ec8a75ae-86e0-41d8-8816-32614ca710e6",
   "metadata": {},
   "outputs": [
    {
     "name": "stdout",
     "output_type": "stream",
     "text": [
      "C:\\Learning Python\\Mini project - pandas\n"
     ]
    }
   ],
   "source": [
    "print(os.getcwd())"
   ]
  },
  {
   "cell_type": "code",
   "execution_count": 16,
   "id": "8a168ef2-f823-41ed-8454-3fafc545127f",
   "metadata": {},
   "outputs": [],
   "source": [
    "df = pd.read_csv('sales_data.csv')"
   ]
  },
  {
   "cell_type": "code",
   "execution_count": 17,
   "id": "a93138fe-6f63-49c7-99d3-6f0e661a14cb",
   "metadata": {},
   "outputs": [
    {
     "data": {
      "text/html": [
       "<div>\n",
       "<style scoped>\n",
       "    .dataframe tbody tr th:only-of-type {\n",
       "        vertical-align: middle;\n",
       "    }\n",
       "\n",
       "    .dataframe tbody tr th {\n",
       "        vertical-align: top;\n",
       "    }\n",
       "\n",
       "    .dataframe thead th {\n",
       "        text-align: right;\n",
       "    }\n",
       "</style>\n",
       "<table border=\"1\" class=\"dataframe\">\n",
       "  <thead>\n",
       "    <tr style=\"text-align: right;\">\n",
       "      <th></th>\n",
       "      <th>Date</th>\n",
       "      <th>Product</th>\n",
       "      <th>Category</th>\n",
       "      <th>Quantity</th>\n",
       "      <th>Price</th>\n",
       "      <th>Total_Sales</th>\n",
       "    </tr>\n",
       "  </thead>\n",
       "  <tbody>\n",
       "    <tr>\n",
       "      <th>0</th>\n",
       "      <td>1/1/2024</td>\n",
       "      <td>Laptop</td>\n",
       "      <td>Electronics</td>\n",
       "      <td>2</td>\n",
       "      <td>50000</td>\n",
       "      <td>100000</td>\n",
       "    </tr>\n",
       "    <tr>\n",
       "      <th>1</th>\n",
       "      <td>1/2/2024</td>\n",
       "      <td>Headphones</td>\n",
       "      <td>Electronics</td>\n",
       "      <td>5</td>\n",
       "      <td>1500</td>\n",
       "      <td>7500</td>\n",
       "    </tr>\n",
       "    <tr>\n",
       "      <th>2</th>\n",
       "      <td>1/3/2024</td>\n",
       "      <td>Smartphone</td>\n",
       "      <td>Electronics</td>\n",
       "      <td>3</td>\n",
       "      <td>25000</td>\n",
       "      <td>75000</td>\n",
       "    </tr>\n",
       "    <tr>\n",
       "      <th>3</th>\n",
       "      <td>1/4/2024</td>\n",
       "      <td>Table</td>\n",
       "      <td>Home</td>\n",
       "      <td>4</td>\n",
       "      <td>3000</td>\n",
       "      <td>12000</td>\n",
       "    </tr>\n",
       "    <tr>\n",
       "      <th>4</th>\n",
       "      <td>1/5/2024</td>\n",
       "      <td>Chair</td>\n",
       "      <td>Home</td>\n",
       "      <td>6</td>\n",
       "      <td>1500</td>\n",
       "      <td>9000</td>\n",
       "    </tr>\n",
       "    <tr>\n",
       "      <th>5</th>\n",
       "      <td>1/6/2024</td>\n",
       "      <td>Television</td>\n",
       "      <td>Electronics</td>\n",
       "      <td>2</td>\n",
       "      <td>40000</td>\n",
       "      <td>80000</td>\n",
       "    </tr>\n",
       "    <tr>\n",
       "      <th>6</th>\n",
       "      <td>1/7/2024</td>\n",
       "      <td>Fan</td>\n",
       "      <td>Home</td>\n",
       "      <td>3</td>\n",
       "      <td>2500</td>\n",
       "      <td>7500</td>\n",
       "    </tr>\n",
       "    <tr>\n",
       "      <th>7</th>\n",
       "      <td>1/8/2024</td>\n",
       "      <td>Mouse</td>\n",
       "      <td>Electronics</td>\n",
       "      <td>10</td>\n",
       "      <td>500</td>\n",
       "      <td>5000</td>\n",
       "    </tr>\n",
       "    <tr>\n",
       "      <th>8</th>\n",
       "      <td>1/9/2024</td>\n",
       "      <td>Keyboard</td>\n",
       "      <td>Electronics</td>\n",
       "      <td>8</td>\n",
       "      <td>1000</td>\n",
       "      <td>8000</td>\n",
       "    </tr>\n",
       "    <tr>\n",
       "      <th>9</th>\n",
       "      <td>1/10/2024</td>\n",
       "      <td>Bed</td>\n",
       "      <td>Home</td>\n",
       "      <td>1</td>\n",
       "      <td>20000</td>\n",
       "      <td>20000</td>\n",
       "    </tr>\n",
       "  </tbody>\n",
       "</table>\n",
       "</div>"
      ],
      "text/plain": [
       "        Date     Product     Category  Quantity  Price  Total_Sales\n",
       "0   1/1/2024      Laptop  Electronics         2  50000       100000\n",
       "1   1/2/2024  Headphones  Electronics         5   1500         7500\n",
       "2   1/3/2024  Smartphone  Electronics         3  25000        75000\n",
       "3   1/4/2024       Table         Home         4   3000        12000\n",
       "4   1/5/2024       Chair         Home         6   1500         9000\n",
       "5   1/6/2024  Television  Electronics         2  40000        80000\n",
       "6   1/7/2024         Fan         Home         3   2500         7500\n",
       "7   1/8/2024       Mouse  Electronics        10    500         5000\n",
       "8   1/9/2024    Keyboard  Electronics         8   1000         8000\n",
       "9  1/10/2024         Bed         Home         1  20000        20000"
      ]
     },
     "execution_count": 17,
     "metadata": {},
     "output_type": "execute_result"
    }
   ],
   "source": [
    "df"
   ]
  },
  {
   "cell_type": "code",
   "execution_count": 19,
   "id": "0566756d-a825-4198-a55e-230cfcf8b58e",
   "metadata": {},
   "outputs": [
    {
     "name": "stdout",
     "output_type": "stream",
     "text": [
      "       Date     Product     Category  Quantity  Price  Total_Sales\n",
      "0  1/1/2024      Laptop  Electronics         2  50000       100000\n",
      "1  1/2/2024  Headphones  Electronics         5   1500         7500\n",
      "2  1/3/2024  Smartphone  Electronics         3  25000        75000\n",
      "3  1/4/2024       Table         Home         4   3000        12000\n",
      "4  1/5/2024       Chair         Home         6   1500         9000\n"
     ]
    }
   ],
   "source": [
    "print(df.head(5))"
   ]
  },
  {
   "cell_type": "code",
   "execution_count": 20,
   "id": "6ca31c57-02f1-4497-824e-64416c1370aa",
   "metadata": {},
   "outputs": [
    {
     "name": "stdout",
     "output_type": "stream",
     "text": [
      "(10, 6)\n"
     ]
    }
   ],
   "source": [
    "print(df.shape)"
   ]
  },
  {
   "cell_type": "code",
   "execution_count": 21,
   "id": "82ed5c4b-0673-46a0-b84c-aefe3d62e08a",
   "metadata": {},
   "outputs": [
    {
     "name": "stdout",
     "output_type": "stream",
     "text": [
      "<class 'pandas.core.frame.DataFrame'>\n",
      "RangeIndex: 10 entries, 0 to 9\n",
      "Data columns (total 6 columns):\n",
      " #   Column       Non-Null Count  Dtype \n",
      "---  ------       --------------  ----- \n",
      " 0   Date         10 non-null     object\n",
      " 1   Product      10 non-null     object\n",
      " 2   Category     10 non-null     object\n",
      " 3   Quantity     10 non-null     int64 \n",
      " 4   Price        10 non-null     int64 \n",
      " 5   Total_Sales  10 non-null     int64 \n",
      "dtypes: int64(3), object(3)\n",
      "memory usage: 612.0+ bytes\n",
      "None\n"
     ]
    }
   ],
   "source": [
    "print(df.info())"
   ]
  },
  {
   "cell_type": "code",
   "execution_count": 22,
   "id": "41531a80-ef37-422f-af33-8184591bd44f",
   "metadata": {},
   "outputs": [
    {
     "name": "stdout",
     "output_type": "stream",
     "text": [
      "Date           0\n",
      "Product        0\n",
      "Category       0\n",
      "Quantity       0\n",
      "Price          0\n",
      "Total_Sales    0\n",
      "dtype: int64\n"
     ]
    }
   ],
   "source": [
    "print(df.isnull().sum())"
   ]
  },
  {
   "cell_type": "code",
   "execution_count": 25,
   "id": "fa0a0553-03f9-4338-8a92-a627794c3c2b",
   "metadata": {},
   "outputs": [],
   "source": [
    " df_cleaned  = df.drop_duplicates()"
   ]
  },
  {
   "cell_type": "code",
   "execution_count": 26,
   "id": "31dcf0c0-3f31-48d9-97ff-4a912bef2b5e",
   "metadata": {},
   "outputs": [
    {
     "name": "stdout",
     "output_type": "stream",
     "text": [
      "Date           1/1/20241/2/20241/3/20241/4/20241/5/20241/6/20...\n",
      "Product        LaptopHeadphonesSmartphoneTableChairTelevision...\n",
      "Category       ElectronicsElectronicsElectronicsHomeHomeElect...\n",
      "Quantity                                                      44\n",
      "Price                                                     145000\n",
      "Total_Sales                                               324000\n",
      "dtype: object\n"
     ]
    }
   ],
   "source": [
    "print(df.drop_duplicates().sum())"
   ]
  },
  {
   "cell_type": "code",
   "execution_count": 27,
   "id": "39ffbd6d-b800-4069-b42e-73ee3075d402",
   "metadata": {},
   "outputs": [
    {
     "name": "stdout",
     "output_type": "stream",
     "text": [
      "        Quantity         Price    Total_Sales\n",
      "count  10.000000     10.000000      10.000000\n",
      "mean    4.400000  14500.000000   32400.000000\n",
      "std     2.875181  18389.308488   37049.366466\n",
      "min     1.000000    500.000000    5000.000000\n",
      "25%     2.250000   1500.000000    7625.000000\n",
      "50%     3.500000   2750.000000   10500.000000\n",
      "75%     5.750000  23750.000000   61250.000000\n",
      "max    10.000000  50000.000000  100000.000000\n"
     ]
    }
   ],
   "source": [
    "print(df_cleaned.describe())"
   ]
  },
  {
   "cell_type": "code",
   "execution_count": 40,
   "id": "d5193205-1828-4d4f-a496-d7c4f37ff76f",
   "metadata": {},
   "outputs": [
    {
     "name": "stdout",
     "output_type": "stream",
     "text": [
      "Product\n",
      "Laptop        1\n",
      "Headphones    1\n",
      "Smartphone    1\n",
      "Table         1\n",
      "Chair         1\n",
      "Television    1\n",
      "Fan           1\n",
      "Mouse         1\n",
      "Keyboard      1\n",
      "Bed           1\n",
      "Name: count, dtype: int64\n",
      "Category\n",
      "Electronics    6\n",
      "Home           4\n",
      "Name: count, dtype: int64\n",
      "Total_Sales\n",
      "7500      2\n",
      "100000    1\n",
      "75000     1\n",
      "12000     1\n",
      "9000      1\n",
      "80000     1\n",
      "5000      1\n",
      "8000      1\n",
      "20000     1\n",
      "Name: count, dtype: int64\n"
     ]
    }
   ],
   "source": [
    "print(df['Product'].value_counts()) \n",
    "print(df['Category'].value_counts()) \n",
    "print(df['Total_Sales'].value_counts()) "
   ]
  },
  {
   "cell_type": "code",
   "execution_count": 42,
   "id": "5c5ef138-fc8b-4785-b839-16ff31076187",
   "metadata": {},
   "outputs": [
    {
     "name": "stdout",
     "output_type": "stream",
     "text": [
      "             Quantity     Price  Total_Sales\n",
      "Quantity     1.000000 -0.659867    -0.568053\n",
      "Price       -0.659867  1.000000     0.956814\n",
      "Total_Sales -0.568053  0.956814     1.000000\n"
     ]
    }
   ],
   "source": [
    "print(df.select_dtypes(include=['number']).corr())"
   ]
  },
  {
   "cell_type": "code",
   "execution_count": 44,
   "id": "1bb86427-83d1-4b20-a18c-d3265b34e8a9",
   "metadata": {},
   "outputs": [],
   "source": [
    "df_cleaned.to_csv('cleaned_dataset.csv' , index=False)"
   ]
  },
  {
   "cell_type": "code",
   "execution_count": null,
   "id": "b181c829-c1e5-4f87-823d-b5fab92995fc",
   "metadata": {},
   "outputs": [],
   "source": []
  }
 ],
 "metadata": {
  "kernelspec": {
   "display_name": "Python 3 (ipykernel)",
   "language": "python",
   "name": "python3"
  },
  "language_info": {
   "codemirror_mode": {
    "name": "ipython",
    "version": 3
   },
   "file_extension": ".py",
   "mimetype": "text/x-python",
   "name": "python",
   "nbconvert_exporter": "python",
   "pygments_lexer": "ipython3",
   "version": "3.13.2"
  }
 },
 "nbformat": 4,
 "nbformat_minor": 5
}
